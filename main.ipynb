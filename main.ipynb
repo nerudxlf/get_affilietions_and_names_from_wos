{
  "nbformat": 4,
  "nbformat_minor": 0,
  "metadata": {
    "colab": {
      "name": "main.ipynb",
      "provenance": [],
      "collapsed_sections": [],
      "include_colab_link": true
    },
    "kernelspec": {
      "display_name": "Python 3",
      "name": "python3"
    }
  },
  "cells": [
    {
      "cell_type": "markdown",
      "metadata": {
        "id": "view-in-github",
        "colab_type": "text"
      },
      "source": [
        "<a href=\"https://colab.research.google.com/github/nerudxlf/get_affilietions_and_names_from_wos/blob/main/main.ipynb\" target=\"_parent\"><img src=\"https://colab.research.google.com/assets/colab-badge.svg\" alt=\"Open In Colab\"/></a>"
      ]
    },
    {
      "cell_type": "markdown",
      "metadata": {
        "id": "-9jVwe16EV6t"
      },
      "source": [
        "Программа, для получения таблицы (Авторы|Универститет|Страна) из таблицы с данными WoS"
      ]
    },
    {
      "cell_type": "code",
      "metadata": {
        "id": "Knj_0PvhrxS5"
      },
      "source": [
        "import pandas as pd\r\n",
        "from google.colab import files"
      ],
      "execution_count": 23,
      "outputs": []
    },
    {
      "cell_type": "code",
      "metadata": {
        "id": "Ogsug5cRsHu3"
      },
      "source": [
        "files.upload()  # загрузка файла"
      ],
      "execution_count": null,
      "outputs": []
    },
    {
      "cell_type": "code",
      "metadata": {
        "id": "ualstBUvsY_o"
      },
      "source": [
        "df = pd.read_excel(\"data.xls\")  # чтение файла из директории\r\n",
        "df = df[\"Addresses\"]  # считываем даные из конкретного столбца\r\n",
        "another_data = []  # объявление переменных \r\n",
        "univer = []\r\n",
        "country = []\r\n",
        "author = []\r\n",
        "arr_result_data = []\r\n",
        "arr_wos_data = df.values.tolist()  # получение из фрейма листа(массива) с данными\r\n",
        "for i in arr_wos_data:  # преобразуем данные к нужному виду\r\n",
        "  split_arr = i.split(\"; [\")\r\n",
        "  for j  in split_arr:\r\n",
        "    if j[0] != \"[\":\r\n",
        "      j = \"[\"+j\r\n",
        "    arr_result_data.append(j)\r\n",
        "  arr_result_data.append(\"-\")\r\n",
        "string = '\\n'.join(arr_result_data)  # массив строк преобразуем в строку по разделителю ('\\n')\r\n",
        "for item in arr_result_data:  # цикл для прохода по каждому элементу листа\r\n",
        "  if item == \"-\":\r\n",
        "    author.append(\"\")\r\n",
        "    univer.append(\"\")\r\n",
        "    country.append(\"\") \r\n",
        "    continue\r\n",
        "  item_split = item.split(\"] \")  # разбиваем элемент на массив по разделителю ([)\r\n",
        "  author_split = item_split[0][1:].split(\";\")  # получаем авторов\r\n",
        "  univer_split = item_split[-1].split(\",\")[0]  # получаем универ\r\n",
        "  country_split = item_split[-1].split(\",\")[-1]  # получаем страну\r\n",
        "  if author_split[0] == '':\r\n",
        "    continue\r\n",
        "  for i in author_split:\r\n",
        "    if i[0] == \" \":  # если есть пробел то удаляем\r\n",
        "      author.append(i[1:])\r\n",
        "    else:\r\n",
        "      author.append(i)\r\n",
        "    univer.append(univer_split)\r\n",
        "    country.append(country_split[1:])  # удаляем пробелы\r\n",
        "    \r\n",
        "result = {\"Авторы\": author, \"Университет\": univer, \"Страна\": country}\r\n",
        "df = pd.DataFrame.from_dict(result, orient='index').T\r\n",
        "df.to_excel(\"out_result.xlsx\", index=False)"
      ],
      "execution_count": null,
      "outputs": []
    }
  ]
}