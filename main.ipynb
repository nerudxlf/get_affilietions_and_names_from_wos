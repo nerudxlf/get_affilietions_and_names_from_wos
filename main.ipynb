{
  "nbformat": 4,
  "nbformat_minor": 0,
  "metadata": {
    "colab": {
      "name": "main.ipynb",
      "provenance": [],
      "include_colab_link": true
    },
    "kernelspec": {
      "display_name": "Python 3",
      "name": "python3"
    }
  },
  "cells": [
    {
      "cell_type": "markdown",
      "metadata": {
        "id": "view-in-github",
        "colab_type": "text"
      },
      "source": [
        "<a href=\"https://colab.research.google.com/github/nerudxlf/get_affilietions_and_names_from_wos/blob/main/main.ipynb\" target=\"_parent\"><img src=\"https://colab.research.google.com/assets/colab-badge.svg\" alt=\"Open In Colab\"/></a>"
      ]
    },
    {
      "cell_type": "code",
      "metadata": {
        "id": "Knj_0PvhrxS5"
      },
      "source": [
        "import pandas as pd\r\n",
        "from google.colab import files"
      ],
      "execution_count": 2,
      "outputs": []
    },
    {
      "cell_type": "code",
      "metadata": {
        "id": "Ogsug5cRsHu3"
      },
      "source": [
        "files.upload()"
      ],
      "execution_count": null,
      "outputs": []
    },
    {
      "cell_type": "code",
      "metadata": {
        "id": "ualstBUvsY_o"
      },
      "source": [
        "df = pd.read_excel(\"data.xls\")\r\n",
        "df = df[\"Addresses\"]"
      ],
      "execution_count": null,
      "outputs": []
    },
    {
      "cell_type": "code",
      "metadata": {
        "id": "qSP62p9Fv31g"
      },
      "source": [
        "another_data = []"
      ],
      "execution_count": 7,
      "outputs": []
    },
    {
      "cell_type": "code",
      "metadata": {
        "id": "M6Yti0jRtPHS"
      },
      "source": [
        "arr_wos_data = df.values.tolist()"
      ],
      "execution_count": 8,
      "outputs": []
    },
    {
      "cell_type": "code",
      "metadata": {
        "id": "Fy3xc-gJtasY"
      },
      "source": [
        "univer = []\r\n",
        "country = []\r\n",
        "author = []\r\n",
        "for item in arr_wos_data:\r\n",
        "  item_split = item.split(\"] \")\r\n",
        "  author_split = item_split[0][1:].split(\";\")\r\n",
        "  univer_split = item_split[-1].split(\",\")[0]\r\n",
        "  country_split = item_split[-1].split(\",\")[-1]\r\n",
        "  for i in author_split:\r\n",
        "    author.append(i)\r\n",
        "    univer.append(univer_split)\r\n",
        "    country.append(country_split)\r\n",
        "print(author)\r\n",
        "print(univer)\r\n",
        "print(country)"
      ],
      "execution_count": null,
      "outputs": []
    },
    {
      "cell_type": "code",
      "metadata": {
        "id": "3HQEFtX50pjn"
      },
      "source": [
        "result = {\"Авторы\": author, \"Университет\": univer, \"Страна\": country}\r\n",
        "df = pd.DataFrame.from_dict(result, orient='index').T\r\n",
        "df.to_excel(\"out_result.xlsx\", index=False)"
      ],
      "execution_count": 13,
      "outputs": []
    }
  ]
}